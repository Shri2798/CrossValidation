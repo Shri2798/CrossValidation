{
 "cells": [
  {
   "cell_type": "code",
   "execution_count": 13,
   "metadata": {},
   "outputs": [],
   "source": [
    "import numpy as np\n",
    "import random\n",
    "import math\n",
    "from sklearn.model_selection import cross_val_predict\n",
    "from sklearn import metrics, linear_model\n",
    "from sklearn.model_selection import StratifiedKFold, train_test_split"
   ]
  },
  {
   "cell_type": "code",
   "execution_count": 14,
   "metadata": {},
   "outputs": [],
   "source": [
    "iris_data = np.loadtxt(\"iris.data\", dtype=\"str\", delimiter=\",\")\n",
    "data_shuffle = random.shuffle(iris_data)\n",
    "size_of_data = iris_data.shape[0]\n",
    "i=5"
   ]
  },
  {
   "cell_type": "code",
   "execution_count": 15,
   "metadata": {},
   "outputs": [],
   "source": [
    "test_size = math.floor(size_of_data * 0.75)"
   ]
  },
  {
   "cell_type": "code",
   "execution_count": 16,
   "metadata": {
    "scrolled": true
   },
   "outputs": [],
   "source": [
    "train = iris_data[0:test_size, :-1].astype(np.float)\n",
    "test = iris_data[test_size: , : -1].astype(np.float)"
   ]
  },
  {
   "cell_type": "code",
   "execution_count": 17,
   "metadata": {},
   "outputs": [],
   "source": [
    "train_Mat_Y = iris_data[0:test_size, -1]\n",
    "train_Mat_Y[train_Mat_Y == \"Iris-setosa\" ] = 1\n",
    "train_Mat_Y[train_Mat_Y == \"Iris-virginica\" ] = 2\n",
    "train_Mat_Y[train_Mat_Y == \"Iris-versicolor\" ] = 3"
   ]
  },
  {
   "cell_type": "code",
   "execution_count": 18,
   "metadata": {},
   "outputs": [],
   "source": [
    "test_Mat_Y = iris_data[test_size: , -1]\n",
    "test_Mat_Y[test_Mat_Y == \"Iris-setosa\" ] = 1\n",
    "test_Mat_Y[test_Mat_Y == \"Iris-virginica\" ] = 2\n",
    "test_Mat_Y[test_Mat_Y == \"Iris-versicolor\" ] = 3"
   ]
  },
  {
   "cell_type": "code",
   "execution_count": 19,
   "metadata": {
    "scrolled": true
   },
   "outputs": [],
   "source": [
    "train_Mat_Y= train_Mat_Y.astype(np.float)\n",
    "test_Mat_Y= test_Mat_Y.astype(np.float)"
   ]
  },
  {
   "cell_type": "code",
   "execution_count": 20,
   "metadata": {},
   "outputs": [],
   "source": [
    "Mat_A = train\n",
    "TMat_A = np.transpose(Mat_A)\n",
    "Step1 = np.dot(TMat_A,Mat_A)\n",
    "Inv_Step1 = np.linalg.inv(Step1)\n",
    "Step2 = np.dot(Inv_Step1,TMat_A)\n",
    "BetaCap = np.dot(Step2,train_Mat_Y)"
   ]
  },
  {
   "cell_type": "code",
   "execution_count": 21,
   "metadata": {
    "scrolled": true
   },
   "outputs": [
    {
     "name": "stdout",
     "output_type": "stream",
     "text": [
      "Beta cap matrix for trained model is:\n",
      "[ 0.19913152 -0.16997243  0.31758137  0.65590918]\n"
     ]
    }
   ],
   "source": [
    "print(\"Beta cap matrix for trained model is:\")\n",
    "print(BetaCap)"
   ]
  },
  {
   "cell_type": "code",
   "execution_count": 22,
   "metadata": {},
   "outputs": [
    {
     "name": "stdout",
     "output_type": "stream",
     "text": [
      "Calculating cross validation for splits from k=5 to k=10 is \n",
      "5 fold CV scores accuracy: 1.0\n",
      "6 fold CV scores accuracy: 1.0\n",
      "7 fold CV scores accuracy: 1.0\n",
      "8 fold CV scores accuracy: 1.0\n",
      "9 fold CV scores accuracy: 1.0\n",
      "10 fold CV scores accuracy: 1.0\n"
     ]
    }
   ],
   "source": [
    "print(\"Calculating cross validation for splits from k=5 to k=10 is \")\n",
    "while(i<=10):\n",
    "    kf = StratifiedKFold(n_splits=i)\n",
    "    Lin_reg = linear_model.LinearRegression()\n",
    "    Trained_model = Lin_reg.fit(train, train_Mat_Y)\n",
    "    Mat_Y = train_Mat_Y.reshape(-1,1)\n",
    "    pred = cross_val_predict(Lin_reg, Mat_Y, train_Mat_Y, cv=i)\n",
    "    accuracy = metrics.r2_score(train_Mat_Y.astype(np.float64), pred)\n",
    "    print('{} fold CV scores accuracy: {}'.format(i,accuracy))\n",
    "    i+=1"
   ]
  },
  {
   "cell_type": "code",
   "execution_count": null,
   "metadata": {},
   "outputs": [],
   "source": []
  }
 ],
 "metadata": {
  "kernelspec": {
   "display_name": "Python 3 (ipykernel)",
   "language": "python",
   "name": "python3"
  },
  "language_info": {
   "codemirror_mode": {
    "name": "ipython",
    "version": 3
   },
   "file_extension": ".py",
   "mimetype": "text/x-python",
   "name": "python",
   "nbconvert_exporter": "python",
   "pygments_lexer": "ipython3",
   "version": "3.8.8"
  }
 },
 "nbformat": 4,
 "nbformat_minor": 4
}
